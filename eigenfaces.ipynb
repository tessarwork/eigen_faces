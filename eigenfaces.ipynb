{
 "cells": [
  {
   "cell_type": "code",
   "execution_count": 1,
   "metadata": {},
   "outputs": [],
   "source": [
    "# !pip install opencv-python\n",
    "# !pip install numpy\n",
    "# !pip install scikit-learn\n"
   ]
  },
  {
   "cell_type": "code",
   "execution_count": 2,
   "metadata": {},
   "outputs": [],
   "source": [
    "import cv2\n",
    "import numpy as np\n",
    "from sklearn.decomposition import PCA\n",
    "from sklearn.preprocessing import StandardScaler\n",
    "from sklearn.neighbors import KNeighborsClassifier\n",
    "import os"
   ]
  },
  {
   "cell_type": "code",
   "execution_count": 3,
   "metadata": {},
   "outputs": [],
   "source": [
    "def load_images(folder, image_size=(112, 112)):\n",
    "    images = []\n",
    "    labels = []\n",
    "    label = 0\n",
    "    for subfolder in os.listdir(folder): \n",
    "        subfolder_path = os.path.join(folder, subfolder)\n",
    "        if os.path.isdir(subfolder_path): \n",
    "            for filename in os.listdir(subfolder_path): \n",
    "                img = cv2.imread(os.path.join(subfolder_path, filename), cv2.IMREAD_GRAYSCALE)\n",
    "                if img is not None: \n",
    "                    img_resized = cv2.resize(img, image_size)\n",
    "                    print(f\"Loaded image shape: {img_resized.shape}\")  # Debug: print image shape\n",
    "                    images.append(img_resized.flatten())\n",
    "                    labels.append(label)\n",
    "            label+=1\n",
    "    return np.array(images), np.array(labels)"
   ]
  },
  {
   "cell_type": "code",
   "execution_count": 4,
   "metadata": {},
   "outputs": [],
   "source": [
    "def apply_pca(images, n_components=4):\n",
    "    scaler = StandardScaler()\n",
    "    images_scaled = scaler.fit_transform(images)  # Fit scaler here\n",
    "\n",
    "    pca = PCA(n_components=n_components)\n",
    "    eigenfaces = pca.fit_transform(images_scaled)\n",
    "    \n",
    "    return pca, eigenfaces, scaler\n",
    "def train_classifier(eigenfaces, labels): \n",
    "    knn = KNeighborsClassifier(n_neighbors=3)\n",
    "    knn.fit(eigenfaces, labels)\n",
    "    return knn\n",
    "\n",
    "def recognize_face(image, pca, knn, scaler):\n",
    "    image = cv2.imread(image, cv2.IMREAD_GRAYSCALE)\n",
    "    image_resized = cv2.resize(image, (112, 112))  # Resize to the same size as training images\n",
    "    image_flattened = image_resized.flatten()\n",
    "\n",
    "    # Use the fitted scaler here\n",
    "    image_scaled = scaler.transform([image_flattened])  # Transform using the fitted scaler\n",
    "    image_projected = pca.transform(image_scaled)\n",
    "\n",
    "    distances, indices = knn.kneighbors(image_projected)\n",
    "\n",
    "    confidence_score = 1 / (1 + distances.mean())  # A simple measure: inverse of average distance\n",
    "    predicted_label = knn.predict(image_projected)[0]\n",
    "    print(f\"Predicted label: {predicted_label}, Confidence score: {confidence_score}\")\n",
    "\n",
    "    label = knn.predict(image_projected)\n",
    "    \n",
    "    return predicted_label\n",
    "def main():\n",
    "    folder = '/Users/taufiq/workspace/eigen_faces/test_data'\n",
    "    images, labels = load_images(folder)\n",
    "    \n",
    "    pca, eigenfaces, scaler = apply_pca(images)  # Get fitted scaler here\n",
    "    \n",
    "    knn = train_classifier(eigenfaces, labels)\n",
    "\n",
    "    test_image = '/Users/taufiq/workspace/eigen_faces/neymar-1.jpeg'\n",
    "    predicted_label = recognize_face(test_image, pca, knn, scaler)  # Pass the fitted scaler\n",
    "    print(type(predicted_label))\n",
    "\n",
    "    print(f\"Predicted label: {predicted_label}\")\n"
   ]
  },
  {
   "cell_type": "code",
   "execution_count": 5,
   "metadata": {},
   "outputs": [
    {
     "name": "stdout",
     "output_type": "stream",
     "text": [
      "Loaded image shape: (112, 112)\n",
      "Loaded image shape: (112, 112)\n",
      "Loaded image shape: (112, 112)\n",
      "Loaded image shape: (112, 112)\n",
      "Predicted label: 1, Confidence score: 0.009392732009369468\n",
      "<class 'numpy.int64'>\n",
      "Predicted label: 1\n"
     ]
    }
   ],
   "source": [
    "main()"
   ]
  }
 ],
 "metadata": {
  "kernelspec": {
   "display_name": ".env",
   "language": "python",
   "name": "python3"
  },
  "language_info": {
   "codemirror_mode": {
    "name": "ipython",
    "version": 3
   },
   "file_extension": ".py",
   "mimetype": "text/x-python",
   "name": "python",
   "nbconvert_exporter": "python",
   "pygments_lexer": "ipython3",
   "version": "3.9.6"
  }
 },
 "nbformat": 4,
 "nbformat_minor": 2
}
